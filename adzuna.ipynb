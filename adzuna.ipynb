{
 "cells": [
  {
   "cell_type": "code",
   "execution_count": 1,
   "metadata": {},
   "outputs": [
    {
     "name": "stdout",
     "output_type": "stream",
     "text": [
      "WARNING:tensorflow:From c:\\Python312\\Lib\\site-packages\\tf_keras\\src\\losses.py:2976: The name tf.losses.sparse_softmax_cross_entropy is deprecated. Please use tf.compat.v1.losses.sparse_softmax_cross_entropy instead.\n",
      "\n"
     ]
    },
    {
     "name": "stderr",
     "output_type": "stream",
     "text": [
      "You are using the default legacy behaviour of the <class 'transformers.models.t5.tokenization_t5.T5Tokenizer'>. This is expected, and simply means that the `legacy` (previous) behavior will be used so nothing changes for you. If you want to use the new behaviour, set `legacy=False`. This should only be set if you understand what it means, and thoroughly read the reason why this was added as explained in https://github.com/huggingface/transformers/pull/24565\n"
     ]
    },
    {
     "data": {
      "application/vnd.jupyter.widget-view+json": {
       "model_id": "37560a0fd7264a5faacd560d1b374f18",
       "version_major": 2,
       "version_minor": 0
      },
      "text/plain": [
       "modules.json:   0%|          | 0.00/349 [00:00<?, ?B/s]"
      ]
     },
     "metadata": {},
     "output_type": "display_data"
    },
    {
     "data": {
      "application/vnd.jupyter.widget-view+json": {
       "model_id": "1a4f27f154314b7696653ff7fb76d0ac",
       "version_major": 2,
       "version_minor": 0
      },
      "text/plain": [
       "config_sentence_transformers.json:   0%|          | 0.00/116 [00:00<?, ?B/s]"
      ]
     },
     "metadata": {},
     "output_type": "display_data"
    },
    {
     "data": {
      "application/vnd.jupyter.widget-view+json": {
       "model_id": "e4004909c7344717aeaf9829167408d0",
       "version_major": 2,
       "version_minor": 0
      },
      "text/plain": [
       "README.md:   0%|          | 0.00/10.7k [00:00<?, ?B/s]"
      ]
     },
     "metadata": {},
     "output_type": "display_data"
    },
    {
     "data": {
      "application/vnd.jupyter.widget-view+json": {
       "model_id": "f1289bd7226843af81c2e6cff7980f67",
       "version_major": 2,
       "version_minor": 0
      },
      "text/plain": [
       "sentence_bert_config.json:   0%|          | 0.00/53.0 [00:00<?, ?B/s]"
      ]
     },
     "metadata": {},
     "output_type": "display_data"
    },
    {
     "data": {
      "application/vnd.jupyter.widget-view+json": {
       "model_id": "37c63e5c86df44da848d1ef1fefaef78",
       "version_major": 2,
       "version_minor": 0
      },
      "text/plain": [
       "config.json:   0%|          | 0.00/612 [00:00<?, ?B/s]"
      ]
     },
     "metadata": {},
     "output_type": "display_data"
    },
    {
     "data": {
      "application/vnd.jupyter.widget-view+json": {
       "model_id": "0fdd4de698d4462695c06b96cb7921e0",
       "version_major": 2,
       "version_minor": 0
      },
      "text/plain": [
       "model.safetensors:   0%|          | 0.00/90.9M [00:00<?, ?B/s]"
      ]
     },
     "metadata": {},
     "output_type": "display_data"
    },
    {
     "data": {
      "application/vnd.jupyter.widget-view+json": {
       "model_id": "4150e34c28cf44218fefda4b45a6f711",
       "version_major": 2,
       "version_minor": 0
      },
      "text/plain": [
       "tokenizer_config.json:   0%|          | 0.00/350 [00:00<?, ?B/s]"
      ]
     },
     "metadata": {},
     "output_type": "display_data"
    },
    {
     "data": {
      "application/vnd.jupyter.widget-view+json": {
       "model_id": "d1bc314f08324f2d9c4a83e794ea4715",
       "version_major": 2,
       "version_minor": 0
      },
      "text/plain": [
       "vocab.txt:   0%|          | 0.00/232k [00:00<?, ?B/s]"
      ]
     },
     "metadata": {},
     "output_type": "display_data"
    },
    {
     "data": {
      "application/vnd.jupyter.widget-view+json": {
       "model_id": "0f285ecf68a14d80abebd3bbbd5f4772",
       "version_major": 2,
       "version_minor": 0
      },
      "text/plain": [
       "tokenizer.json:   0%|          | 0.00/466k [00:00<?, ?B/s]"
      ]
     },
     "metadata": {},
     "output_type": "display_data"
    },
    {
     "data": {
      "application/vnd.jupyter.widget-view+json": {
       "model_id": "07b7c1f8083d4681ad045ebd34b79a0c",
       "version_major": 2,
       "version_minor": 0
      },
      "text/plain": [
       "special_tokens_map.json:   0%|          | 0.00/112 [00:00<?, ?B/s]"
      ]
     },
     "metadata": {},
     "output_type": "display_data"
    },
    {
     "data": {
      "application/vnd.jupyter.widget-view+json": {
       "model_id": "a524a818474d4dd3ae5d7af167ff3525",
       "version_major": 2,
       "version_minor": 0
      },
      "text/plain": [
       "1_Pooling/config.json:   0%|          | 0.00/190 [00:00<?, ?B/s]"
      ]
     },
     "metadata": {},
     "output_type": "display_data"
    },
    {
     "name": "stdout",
     "output_type": "stream",
     "text": [
      "Fetching page 1...\n",
      "Fetching page 2...\n",
      "Total jobs fetched: 100\n"
     ]
    },
    {
     "data": {
      "text/html": [
       "<div>\n",
       "<style scoped>\n",
       "    .dataframe tbody tr th:only-of-type {\n",
       "        vertical-align: middle;\n",
       "    }\n",
       "\n",
       "    .dataframe tbody tr th {\n",
       "        vertical-align: top;\n",
       "    }\n",
       "\n",
       "    .dataframe thead th {\n",
       "        text-align: right;\n",
       "    }\n",
       "</style>\n",
       "<table border=\"1\" class=\"dataframe\">\n",
       "  <thead>\n",
       "    <tr style=\"text-align: right;\">\n",
       "      <th></th>\n",
       "      <th>id</th>\n",
       "      <th>title</th>\n",
       "      <th>category</th>\n",
       "      <th>salary_min</th>\n",
       "      <th>company</th>\n",
       "      <th>latitude</th>\n",
       "      <th>location</th>\n",
       "      <th>__CLASS__</th>\n",
       "      <th>salary_is_predicted</th>\n",
       "      <th>created</th>\n",
       "      <th>salary_max</th>\n",
       "      <th>contract_type</th>\n",
       "      <th>adref</th>\n",
       "      <th>redirect_url</th>\n",
       "      <th>description</th>\n",
       "      <th>longitude</th>\n",
       "      <th>contract_time</th>\n",
       "    </tr>\n",
       "  </thead>\n",
       "  <tbody>\n",
       "    <tr>\n",
       "      <th>0</th>\n",
       "      <td>4849700272</td>\n",
       "      <td>Senior Data Scientist</td>\n",
       "      <td>{'tag': 'it-jobs', '__CLASS__': 'Adzuna::API::...</td>\n",
       "      <td>75000.00</td>\n",
       "      <td>{'display_name': 'ADLIB Recruitment', '__CLASS...</td>\n",
       "      <td>51.451818</td>\n",
       "      <td>{'__CLASS__': 'Adzuna::API::Response::Location...</td>\n",
       "      <td>Adzuna::API::Response::Job</td>\n",
       "      <td>0</td>\n",
       "      <td>2024-09-03T00:00:03Z</td>\n",
       "      <td>75000.00</td>\n",
       "      <td>permanent</td>\n",
       "      <td>eyJhbGciOiJIUzI1NiJ9.eyJpIjoiNDg0OTcwMDI3MiIsI...</td>\n",
       "      <td>https://www.adzuna.co.uk/jobs/land/ad/48497002...</td>\n",
       "      <td>Senior Data Scientist Leading Financial Servic...</td>\n",
       "      <td>-0.028060</td>\n",
       "      <td>NaN</td>\n",
       "    </tr>\n",
       "    <tr>\n",
       "      <th>1</th>\n",
       "      <td>4840002558</td>\n",
       "      <td>Data Scientist</td>\n",
       "      <td>{'label': 'IT Jobs', '__CLASS__': 'Adzuna::API...</td>\n",
       "      <td>52070.58</td>\n",
       "      <td>{'__CLASS__': 'Adzuna::API::Response::Company'...</td>\n",
       "      <td>51.503378</td>\n",
       "      <td>{'__CLASS__': 'Adzuna::API::Response::Location...</td>\n",
       "      <td>Adzuna::API::Response::Job</td>\n",
       "      <td>1</td>\n",
       "      <td>2024-08-26T15:01:04Z</td>\n",
       "      <td>52070.58</td>\n",
       "      <td>NaN</td>\n",
       "      <td>eyJhbGciOiJIUzI1NiJ9.eyJzIjoibmtHNzh5RjM3eEc5V...</td>\n",
       "      <td>https://www.adzuna.co.uk/jobs/land/ad/48400025...</td>\n",
       "      <td>Data Scientist (STEM Background, Python) - Hyb...</td>\n",
       "      <td>-0.139134</td>\n",
       "      <td>NaN</td>\n",
       "    </tr>\n",
       "    <tr>\n",
       "      <th>2</th>\n",
       "      <td>4854081270</td>\n",
       "      <td>Data Scientist</td>\n",
       "      <td>{'label': 'IT Jobs', '__CLASS__': 'Adzuna::API...</td>\n",
       "      <td>71161.93</td>\n",
       "      <td>{'display_name': 'Formula Recruitment', '__CLA...</td>\n",
       "      <td>51.503378</td>\n",
       "      <td>{'__CLASS__': 'Adzuna::API::Response::Location...</td>\n",
       "      <td>Adzuna::API::Response::Job</td>\n",
       "      <td>1</td>\n",
       "      <td>2024-09-06T08:42:24Z</td>\n",
       "      <td>71161.93</td>\n",
       "      <td>contract</td>\n",
       "      <td>eyJhbGciOiJIUzI1NiJ9.eyJpIjoiNDg1NDA4MTI3MCIsI...</td>\n",
       "      <td>https://www.adzuna.co.uk/jobs/land/ad/48540812...</td>\n",
       "      <td>Data Scientist | Up to £400 per day Outside IR...</td>\n",
       "      <td>-0.139134</td>\n",
       "      <td>NaN</td>\n",
       "    </tr>\n",
       "    <tr>\n",
       "      <th>3</th>\n",
       "      <td>4866121274</td>\n",
       "      <td>Data Scientist</td>\n",
       "      <td>{'__CLASS__': 'Adzuna::API::Response::Category...</td>\n",
       "      <td>74070.98</td>\n",
       "      <td>{'display_name': 'Gloo', '__CLASS__': 'Adzuna:...</td>\n",
       "      <td>51.503378</td>\n",
       "      <td>{'area': ['UK', 'London'], '__CLASS__': 'Adzun...</td>\n",
       "      <td>Adzuna::API::Response::Job</td>\n",
       "      <td>1</td>\n",
       "      <td>2024-09-17T05:44:26Z</td>\n",
       "      <td>74070.98</td>\n",
       "      <td>NaN</td>\n",
       "      <td>eyJhbGciOiJIUzI1NiJ9.eyJpIjoiNDg2NjEyMTI3NCIsI...</td>\n",
       "      <td>https://www.adzuna.co.uk/jobs/land/ad/48661212...</td>\n",
       "      <td>A rapidly expanding AI-powered customer analyt...</td>\n",
       "      <td>-0.139134</td>\n",
       "      <td>NaN</td>\n",
       "    </tr>\n",
       "    <tr>\n",
       "      <th>4</th>\n",
       "      <td>4847376731</td>\n",
       "      <td>Data Scientist</td>\n",
       "      <td>{'__CLASS__': 'Adzuna::API::Response::Category...</td>\n",
       "      <td>70384.73</td>\n",
       "      <td>{'__CLASS__': 'Adzuna::API::Response::Company'...</td>\n",
       "      <td>51.503378</td>\n",
       "      <td>{'__CLASS__': 'Adzuna::API::Response::Location...</td>\n",
       "      <td>Adzuna::API::Response::Job</td>\n",
       "      <td>1</td>\n",
       "      <td>2024-09-01T12:02:01Z</td>\n",
       "      <td>70384.73</td>\n",
       "      <td>NaN</td>\n",
       "      <td>eyJhbGciOiJIUzI1NiJ9.eyJzIjoibmtHNzh5RjM3eEc5V...</td>\n",
       "      <td>https://www.adzuna.co.uk/jobs/land/ad/48473767...</td>\n",
       "      <td>My client, a leading insurer, is seeking a Dat...</td>\n",
       "      <td>-0.139134</td>\n",
       "      <td>NaN</td>\n",
       "    </tr>\n",
       "  </tbody>\n",
       "</table>\n",
       "</div>"
      ],
      "text/plain": [
       "           id                  title  \\\n",
       "0  4849700272  Senior Data Scientist   \n",
       "1  4840002558         Data Scientist   \n",
       "2  4854081270         Data Scientist   \n",
       "3  4866121274         Data Scientist   \n",
       "4  4847376731         Data Scientist   \n",
       "\n",
       "                                            category  salary_min  \\\n",
       "0  {'tag': 'it-jobs', '__CLASS__': 'Adzuna::API::...    75000.00   \n",
       "1  {'label': 'IT Jobs', '__CLASS__': 'Adzuna::API...    52070.58   \n",
       "2  {'label': 'IT Jobs', '__CLASS__': 'Adzuna::API...    71161.93   \n",
       "3  {'__CLASS__': 'Adzuna::API::Response::Category...    74070.98   \n",
       "4  {'__CLASS__': 'Adzuna::API::Response::Category...    70384.73   \n",
       "\n",
       "                                             company   latitude  \\\n",
       "0  {'display_name': 'ADLIB Recruitment', '__CLASS...  51.451818   \n",
       "1  {'__CLASS__': 'Adzuna::API::Response::Company'...  51.503378   \n",
       "2  {'display_name': 'Formula Recruitment', '__CLA...  51.503378   \n",
       "3  {'display_name': 'Gloo', '__CLASS__': 'Adzuna:...  51.503378   \n",
       "4  {'__CLASS__': 'Adzuna::API::Response::Company'...  51.503378   \n",
       "\n",
       "                                            location  \\\n",
       "0  {'__CLASS__': 'Adzuna::API::Response::Location...   \n",
       "1  {'__CLASS__': 'Adzuna::API::Response::Location...   \n",
       "2  {'__CLASS__': 'Adzuna::API::Response::Location...   \n",
       "3  {'area': ['UK', 'London'], '__CLASS__': 'Adzun...   \n",
       "4  {'__CLASS__': 'Adzuna::API::Response::Location...   \n",
       "\n",
       "                    __CLASS__ salary_is_predicted               created  \\\n",
       "0  Adzuna::API::Response::Job                   0  2024-09-03T00:00:03Z   \n",
       "1  Adzuna::API::Response::Job                   1  2024-08-26T15:01:04Z   \n",
       "2  Adzuna::API::Response::Job                   1  2024-09-06T08:42:24Z   \n",
       "3  Adzuna::API::Response::Job                   1  2024-09-17T05:44:26Z   \n",
       "4  Adzuna::API::Response::Job                   1  2024-09-01T12:02:01Z   \n",
       "\n",
       "   salary_max contract_type  \\\n",
       "0    75000.00     permanent   \n",
       "1    52070.58           NaN   \n",
       "2    71161.93      contract   \n",
       "3    74070.98           NaN   \n",
       "4    70384.73           NaN   \n",
       "\n",
       "                                               adref  \\\n",
       "0  eyJhbGciOiJIUzI1NiJ9.eyJpIjoiNDg0OTcwMDI3MiIsI...   \n",
       "1  eyJhbGciOiJIUzI1NiJ9.eyJzIjoibmtHNzh5RjM3eEc5V...   \n",
       "2  eyJhbGciOiJIUzI1NiJ9.eyJpIjoiNDg1NDA4MTI3MCIsI...   \n",
       "3  eyJhbGciOiJIUzI1NiJ9.eyJpIjoiNDg2NjEyMTI3NCIsI...   \n",
       "4  eyJhbGciOiJIUzI1NiJ9.eyJzIjoibmtHNzh5RjM3eEc5V...   \n",
       "\n",
       "                                        redirect_url  \\\n",
       "0  https://www.adzuna.co.uk/jobs/land/ad/48497002...   \n",
       "1  https://www.adzuna.co.uk/jobs/land/ad/48400025...   \n",
       "2  https://www.adzuna.co.uk/jobs/land/ad/48540812...   \n",
       "3  https://www.adzuna.co.uk/jobs/land/ad/48661212...   \n",
       "4  https://www.adzuna.co.uk/jobs/land/ad/48473767...   \n",
       "\n",
       "                                         description  longitude contract_time  \n",
       "0  Senior Data Scientist Leading Financial Servic...  -0.028060           NaN  \n",
       "1  Data Scientist (STEM Background, Python) - Hyb...  -0.139134           NaN  \n",
       "2  Data Scientist | Up to £400 per day Outside IR...  -0.139134           NaN  \n",
       "3  A rapidly expanding AI-powered customer analyt...  -0.139134           NaN  \n",
       "4  My client, a leading insurer, is seeking a Dat...  -0.139134           NaN  "
      ]
     },
     "metadata": {},
     "output_type": "display_data"
    },
    {
     "data": {
      "text/html": [
       "<div>\n",
       "<style scoped>\n",
       "    .dataframe tbody tr th:only-of-type {\n",
       "        vertical-align: middle;\n",
       "    }\n",
       "\n",
       "    .dataframe tbody tr th {\n",
       "        vertical-align: top;\n",
       "    }\n",
       "\n",
       "    .dataframe thead th {\n",
       "        text-align: right;\n",
       "    }\n",
       "</style>\n",
       "<table border=\"1\" class=\"dataframe\">\n",
       "  <thead>\n",
       "    <tr style=\"text-align: right;\">\n",
       "      <th></th>\n",
       "      <th>O*NET-SOC Code</th>\n",
       "      <th>Title</th>\n",
       "      <th>Description</th>\n",
       "    </tr>\n",
       "  </thead>\n",
       "  <tbody>\n",
       "    <tr>\n",
       "      <th>0</th>\n",
       "      <td>11-1011.00</td>\n",
       "      <td>Chief Executives</td>\n",
       "      <td>Determine and formulate policies and provide o...</td>\n",
       "    </tr>\n",
       "    <tr>\n",
       "      <th>1</th>\n",
       "      <td>11-1011.03</td>\n",
       "      <td>Chief Sustainability Officers</td>\n",
       "      <td>Communicate and coordinate with management, sh...</td>\n",
       "    </tr>\n",
       "    <tr>\n",
       "      <th>2</th>\n",
       "      <td>11-1021.00</td>\n",
       "      <td>General and Operations Managers</td>\n",
       "      <td>Plan, direct, or coordinate the operations of ...</td>\n",
       "    </tr>\n",
       "    <tr>\n",
       "      <th>3</th>\n",
       "      <td>11-1031.00</td>\n",
       "      <td>Legislators</td>\n",
       "      <td>Develop, introduce, or enact laws and statutes...</td>\n",
       "    </tr>\n",
       "    <tr>\n",
       "      <th>4</th>\n",
       "      <td>11-2011.00</td>\n",
       "      <td>Advertising and Promotions Managers</td>\n",
       "      <td>Plan, direct, or coordinate advertising polici...</td>\n",
       "    </tr>\n",
       "  </tbody>\n",
       "</table>\n",
       "</div>"
      ],
      "text/plain": [
       "  O*NET-SOC Code                                Title  \\\n",
       "0     11-1011.00                     Chief Executives   \n",
       "1     11-1011.03        Chief Sustainability Officers   \n",
       "2     11-1021.00      General and Operations Managers   \n",
       "3     11-1031.00                          Legislators   \n",
       "4     11-2011.00  Advertising and Promotions Managers   \n",
       "\n",
       "                                         Description  \n",
       "0  Determine and formulate policies and provide o...  \n",
       "1  Communicate and coordinate with management, sh...  \n",
       "2  Plan, direct, or coordinate the operations of ...  \n",
       "3  Develop, introduce, or enact laws and statutes...  \n",
       "4  Plan, direct, or coordinate advertising polici...  "
      ]
     },
     "metadata": {},
     "output_type": "display_data"
    },
    {
     "name": "stdout",
     "output_type": "stream",
     "text": [
      "Total documents prepared: 1116\n",
      "Generating document embeddings...\n"
     ]
    },
    {
     "data": {
      "application/vnd.jupyter.widget-view+json": {
       "model_id": "35d2f5fc8c4942459bc03d8de5a578a0",
       "version_major": 2,
       "version_minor": 0
      },
      "text/plain": [
       "Batches:   0%|          | 0/35 [00:00<?, ?it/s]"
      ]
     },
     "metadata": {},
     "output_type": "display_data"
    },
    {
     "name": "stdout",
     "output_type": "stream",
     "text": [
      "FAISS index has 1116 vectors.\n",
      "Welcome to the Career Guidance Chatbot!\n",
      "Type 'exit' to quit.\n",
      "\n",
      "Chatbot: False\n",
      "\n",
      "Chatbot: True\n",
      "\n",
      "Chatbot: False\n",
      "\n",
      "Chatbot: False\n",
      "\n",
      "Chatbot: False\n",
      "\n",
      "Chatbot: True\n",
      "\n"
     ]
    },
    {
     "ename": "KeyboardInterrupt",
     "evalue": "Interrupted by user",
     "output_type": "error",
     "traceback": [
      "\u001b[1;31m---------------------------------------------------------------------------\u001b[0m",
      "\u001b[1;31mKeyboardInterrupt\u001b[0m                         Traceback (most recent call last)",
      "Cell \u001b[1;32mIn[1], line 168\u001b[0m\n\u001b[0;32m    165\u001b[0m \u001b[38;5;66;03m# Section 6: Testing the Chatbot\u001b[39;00m\n\u001b[0;32m    167\u001b[0m \u001b[38;5;28;01mif\u001b[39;00m \u001b[38;5;18m__name__\u001b[39m \u001b[38;5;241m==\u001b[39m \u001b[38;5;124m\"\u001b[39m\u001b[38;5;124m__main__\u001b[39m\u001b[38;5;124m\"\u001b[39m:\n\u001b[1;32m--> 168\u001b[0m     \u001b[43mchat\u001b[49m\u001b[43m(\u001b[49m\u001b[43m)\u001b[49m\n",
      "Cell \u001b[1;32mIn[1], line 158\u001b[0m, in \u001b[0;36mchat\u001b[1;34m()\u001b[0m\n\u001b[0;32m    156\u001b[0m \u001b[38;5;28mprint\u001b[39m(\u001b[38;5;124m\"\u001b[39m\u001b[38;5;124mType \u001b[39m\u001b[38;5;124m'\u001b[39m\u001b[38;5;124mexit\u001b[39m\u001b[38;5;124m'\u001b[39m\u001b[38;5;124m to quit.\u001b[39m\u001b[38;5;130;01m\\n\u001b[39;00m\u001b[38;5;124m\"\u001b[39m)\n\u001b[0;32m    157\u001b[0m \u001b[38;5;28;01mwhile\u001b[39;00m \u001b[38;5;28;01mTrue\u001b[39;00m:\n\u001b[1;32m--> 158\u001b[0m     user_input \u001b[38;5;241m=\u001b[39m \u001b[38;5;28;43minput\u001b[39;49m\u001b[43m(\u001b[49m\u001b[38;5;124;43m\"\u001b[39;49m\u001b[38;5;124;43mYou: \u001b[39;49m\u001b[38;5;124;43m\"\u001b[39;49m\u001b[43m)\u001b[49m\n\u001b[0;32m    159\u001b[0m     \u001b[38;5;28;01mif\u001b[39;00m user_input\u001b[38;5;241m.\u001b[39mlower() \u001b[38;5;129;01min\u001b[39;00m [\u001b[38;5;124m'\u001b[39m\u001b[38;5;124mexit\u001b[39m\u001b[38;5;124m'\u001b[39m, \u001b[38;5;124m'\u001b[39m\u001b[38;5;124mquit\u001b[39m\u001b[38;5;124m'\u001b[39m]:\n\u001b[0;32m    160\u001b[0m         \u001b[38;5;28mprint\u001b[39m(\u001b[38;5;124m\"\u001b[39m\u001b[38;5;124mChatbot: Goodbye!\u001b[39m\u001b[38;5;124m\"\u001b[39m)\n",
      "File \u001b[1;32m~\\AppData\\Roaming\\Python\\Python312\\site-packages\\ipykernel\\kernelbase.py:1282\u001b[0m, in \u001b[0;36mKernel.raw_input\u001b[1;34m(self, prompt)\u001b[0m\n\u001b[0;32m   1280\u001b[0m     msg \u001b[38;5;241m=\u001b[39m \u001b[38;5;124m\"\u001b[39m\u001b[38;5;124mraw_input was called, but this frontend does not support input requests.\u001b[39m\u001b[38;5;124m\"\u001b[39m\n\u001b[0;32m   1281\u001b[0m     \u001b[38;5;28;01mraise\u001b[39;00m StdinNotImplementedError(msg)\n\u001b[1;32m-> 1282\u001b[0m \u001b[38;5;28;01mreturn\u001b[39;00m \u001b[38;5;28;43mself\u001b[39;49m\u001b[38;5;241;43m.\u001b[39;49m\u001b[43m_input_request\u001b[49m\u001b[43m(\u001b[49m\n\u001b[0;32m   1283\u001b[0m \u001b[43m    \u001b[49m\u001b[38;5;28;43mstr\u001b[39;49m\u001b[43m(\u001b[49m\u001b[43mprompt\u001b[49m\u001b[43m)\u001b[49m\u001b[43m,\u001b[49m\n\u001b[0;32m   1284\u001b[0m \u001b[43m    \u001b[49m\u001b[38;5;28;43mself\u001b[39;49m\u001b[38;5;241;43m.\u001b[39;49m\u001b[43m_parent_ident\u001b[49m\u001b[43m[\u001b[49m\u001b[38;5;124;43m\"\u001b[39;49m\u001b[38;5;124;43mshell\u001b[39;49m\u001b[38;5;124;43m\"\u001b[39;49m\u001b[43m]\u001b[49m\u001b[43m,\u001b[49m\n\u001b[0;32m   1285\u001b[0m \u001b[43m    \u001b[49m\u001b[38;5;28;43mself\u001b[39;49m\u001b[38;5;241;43m.\u001b[39;49m\u001b[43mget_parent\u001b[49m\u001b[43m(\u001b[49m\u001b[38;5;124;43m\"\u001b[39;49m\u001b[38;5;124;43mshell\u001b[39;49m\u001b[38;5;124;43m\"\u001b[39;49m\u001b[43m)\u001b[49m\u001b[43m,\u001b[49m\n\u001b[0;32m   1286\u001b[0m \u001b[43m    \u001b[49m\u001b[43mpassword\u001b[49m\u001b[38;5;241;43m=\u001b[39;49m\u001b[38;5;28;43;01mFalse\u001b[39;49;00m\u001b[43m,\u001b[49m\n\u001b[0;32m   1287\u001b[0m \u001b[43m\u001b[49m\u001b[43m)\u001b[49m\n",
      "File \u001b[1;32m~\\AppData\\Roaming\\Python\\Python312\\site-packages\\ipykernel\\kernelbase.py:1325\u001b[0m, in \u001b[0;36mKernel._input_request\u001b[1;34m(self, prompt, ident, parent, password)\u001b[0m\n\u001b[0;32m   1322\u001b[0m \u001b[38;5;28;01mexcept\u001b[39;00m \u001b[38;5;167;01mKeyboardInterrupt\u001b[39;00m:\n\u001b[0;32m   1323\u001b[0m     \u001b[38;5;66;03m# re-raise KeyboardInterrupt, to truncate traceback\u001b[39;00m\n\u001b[0;32m   1324\u001b[0m     msg \u001b[38;5;241m=\u001b[39m \u001b[38;5;124m\"\u001b[39m\u001b[38;5;124mInterrupted by user\u001b[39m\u001b[38;5;124m\"\u001b[39m\n\u001b[1;32m-> 1325\u001b[0m     \u001b[38;5;28;01mraise\u001b[39;00m \u001b[38;5;167;01mKeyboardInterrupt\u001b[39;00m(msg) \u001b[38;5;28;01mfrom\u001b[39;00m \u001b[38;5;28;01mNone\u001b[39;00m\n\u001b[0;32m   1326\u001b[0m \u001b[38;5;28;01mexcept\u001b[39;00m \u001b[38;5;167;01mException\u001b[39;00m:\n\u001b[0;32m   1327\u001b[0m     \u001b[38;5;28mself\u001b[39m\u001b[38;5;241m.\u001b[39mlog\u001b[38;5;241m.\u001b[39mwarning(\u001b[38;5;124m\"\u001b[39m\u001b[38;5;124mInvalid Message:\u001b[39m\u001b[38;5;124m\"\u001b[39m, exc_info\u001b[38;5;241m=\u001b[39m\u001b[38;5;28;01mTrue\u001b[39;00m)\n",
      "\u001b[1;31mKeyboardInterrupt\u001b[0m: Interrupted by user"
     ]
    }
   ],
   "source": [
    "# Import necessary libraries\n",
    "import requests\n",
    "import pandas as pd\n",
    "import time\n",
    "from transformers import T5Tokenizer, T5ForConditionalGeneration\n",
    "import torch\n",
    "import os\n",
    "from IPython.display import display\n",
    "\n",
    "from sentence_transformers import SentenceTransformer\n",
    "import faiss\n",
    "import numpy as np\n",
    "\n",
    "# Initialize the T5 model and tokenizer\n",
    "model_name = \"t5-base\"\n",
    "tokenizer = T5Tokenizer.from_pretrained(model_name)\n",
    "model = T5ForConditionalGeneration.from_pretrained(model_name)\n",
    "\n",
    "# Initialize the SentenceTransformer for embeddings\n",
    "embedding_model = SentenceTransformer('all-MiniLM-L6-v2')  # Efficient and suitable for this task\n",
    "\n",
    "# Section 2: Data Collection from APIs\n",
    "\n",
    "# Adzuna API credentials\n",
    "ADZUNA_APP_ID = '6298fc50'\n",
    "ADZUNA_APP_KEY = 'bc2646c5a0a78e7a9f1cdde1f307650c'\n",
    "\n",
    "def fetch_job_data(query, location, page=1, results_per_page=50):\n",
    "    \"\"\"\n",
    "    Fetch job data from Adzuna API.\n",
    "    \"\"\"\n",
    "    url = f'https://api.adzuna.com/v1/api/jobs/gb/search/{page}'\n",
    "    params = {\n",
    "        'app_id': ADZUNA_APP_ID,\n",
    "        'app_key': ADZUNA_APP_KEY,\n",
    "        'results_per_page': results_per_page,\n",
    "        'what': query,\n",
    "        'where': location,\n",
    "        'content-type': 'application/json'\n",
    "    }\n",
    "    response = requests.get(url, params=params)\n",
    "    if response.status_code == 200:\n",
    "        return response.json()\n",
    "    elif response.status_code == 429:\n",
    "        print(\"Rate limit exceeded. Waiting for 60 seconds.\")\n",
    "        time.sleep(60)\n",
    "        return fetch_job_data(query, location, page, results_per_page)\n",
    "    else:\n",
    "        print(f\"Failed to fetch data: {response.status_code}\")\n",
    "        return {}\n",
    "\n",
    "# Fetch job data\n",
    "JOB_QUERY = 'data scientist'\n",
    "LOCATION = 'London'\n",
    "PAGES_TO_FETCH = 2  # Adjust as needed\n",
    "\n",
    "jobs_data = []\n",
    "\n",
    "for page in range(1, PAGES_TO_FETCH + 1):\n",
    "    print(f\"Fetching page {page}...\")\n",
    "    data = fetch_job_data(JOB_QUERY, LOCATION, page)\n",
    "    jobs = data.get('results', [])\n",
    "    jobs_data.extend(jobs)\n",
    "    time.sleep(1)  # To respect API rate limits\n",
    "\n",
    "print(f\"Total jobs fetched: {len(jobs_data)}\")\n",
    "\n",
    "# Convert to DataFrame\n",
    "df_jobs = pd.DataFrame(jobs_data)\n",
    "display(df_jobs.head())\n",
    "\n",
    "# Load O*NET Data\n",
    "ONET_FILE_PATH = 'Occupation Data.txt'  # Replace with your actual file path\n",
    "\n",
    "if not os.path.exists(ONET_FILE_PATH):\n",
    "    print(f\"File {ONET_FILE_PATH} not found. Please download it from https://www.onetcenter.org/database.html and place it in the notebook directory.\")\n",
    "else:\n",
    "    df_occupations = pd.read_csv(ONET_FILE_PATH, sep='\\t', encoding='utf-8')\n",
    "    display(df_occupations.head())\n",
    "\n",
    "    # Section 3: Building the Knowledge Base\n",
    "\n",
    "    documents = []\n",
    "\n",
    "    # Process Adzuna Job Data\n",
    "    for index, row in df_jobs.iterrows():\n",
    "        title = row.get('title', 'N/A')\n",
    "        location = row.get('location', {}).get('display_name', 'N/A') if isinstance(row.get('location', {}), dict) else 'N/A'\n",
    "        description = row.get('description', 'No description provided.')\n",
    "        content = f\"Job Title: {title}\\nLocation: {location}\\nDescription: {description}\"\n",
    "        documents.append({'content': content, 'meta': {'source': 'Adzuna'}})\n",
    "\n",
    "    # Process O*NET Occupation Data\n",
    "    if 'Title' in df_occupations.columns and 'Description' in df_occupations.columns:\n",
    "        for index, row in df_occupations.iterrows():\n",
    "            occupation_title = row.get('Title', 'N/A')\n",
    "            occupation_description = row.get('Description', 'No description provided.')\n",
    "            content = f\"Occupation Title: {occupation_title}\\nDescription: {occupation_description}\"\n",
    "            documents.append({'content': content, 'meta': {'source': 'O*NET'}})\n",
    "    else:\n",
    "        print(\"Expected columns 'Title' and 'Description' not found in O*NET data.\")\n",
    "    \n",
    "    print(f\"Total documents prepared: {len(documents)}\")\n",
    "\n",
    "    # Extract document contents\n",
    "    doc_texts = [doc['content'] for doc in documents]\n",
    "\n",
    "    # Generate embeddings\n",
    "    print(\"Generating document embeddings...\")\n",
    "    embeddings = embedding_model.encode(doc_texts, convert_to_numpy=True, show_progress_bar=True)\n",
    "\n",
    "    # Build FAISS index\n",
    "    embedding_dim = embeddings.shape[1]\n",
    "    index = faiss.IndexFlatL2(embedding_dim)  # Using L2 distance\n",
    "    index.add(embeddings)\n",
    "\n",
    "    print(f\"FAISS index has {index.ntotal} vectors.\")\n",
    "\n",
    "    # Section 4: Generating Responses\n",
    "\n",
    "    def generate_response(user_input, top_k=5):\n",
    "        \"\"\"\n",
    "        Generate a response based on user input using the T5 model with retrieved context.\n",
    "        \"\"\"\n",
    "        # Embed the user input\n",
    "        query_embedding = embedding_model.encode([user_input], convert_to_numpy=True)\n",
    "        \n",
    "        # Search for top_k similar documents\n",
    "        distances, indices = index.search(query_embedding, top_k)\n",
    "        \n",
    "        # Retrieve the top_k documents\n",
    "        relevant_docs = [doc_texts[idx] for idx in indices[0]]\n",
    "        \n",
    "        # Combine the relevant documents into the context\n",
    "        context = \"\\n\".join(relevant_docs)\n",
    "        \n",
    "        # Create the prompt\n",
    "        prompt = f\"Based on the following documents, answer the question: {user_input}\\nDocuments:\\n{context}\"\n",
    "        \n",
    "        # Tokenize input\n",
    "        inputs = tokenizer(prompt, return_tensors=\"pt\", max_length=512, truncation=True)\n",
    "        \n",
    "        # Generate response\n",
    "        with torch.no_grad():\n",
    "            outputs = model.generate(**inputs, max_length=150)\n",
    "        \n",
    "        return tokenizer.decode(outputs[0], skip_special_tokens=True)\n",
    "\n",
    "    # Section 5: Creating a Chatbot Interface\n",
    "\n",
    "    def chat():\n",
    "        \"\"\"\n",
    "        Simple command-line chatbot interface.\n",
    "        \"\"\"\n",
    "        print(\"Welcome to the Career Guidance Chatbot!\")\n",
    "        print(\"Type 'exit' to quit.\\n\")\n",
    "        while True:\n",
    "            user_input = input(\"You: \")\n",
    "            if user_input.lower() in ['exit', 'quit']:\n",
    "                print(\"Chatbot: Goodbye!\")\n",
    "                break\n",
    "            response = generate_response(user_input)\n",
    "            print(f\"Chatbot: {response}\\n\")\n",
    "\n",
    "    # Section 6: Testing the Chatbot\n",
    "\n",
    "    if __name__ == \"__main__\":\n",
    "        chat()\n"
   ]
  }
 ],
 "metadata": {
  "kernelspec": {
   "display_name": "Python 3",
   "language": "python",
   "name": "python3"
  },
  "language_info": {
   "codemirror_mode": {
    "name": "ipython",
    "version": 3
   },
   "file_extension": ".py",
   "mimetype": "text/x-python",
   "name": "python",
   "nbconvert_exporter": "python",
   "pygments_lexer": "ipython3",
   "version": "3.12.4"
  }
 },
 "nbformat": 4,
 "nbformat_minor": 2
}
